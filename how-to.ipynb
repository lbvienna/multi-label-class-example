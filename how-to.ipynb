{
 "cells": [
  {
   "cell_type": "code",
   "execution_count": 6,
   "metadata": {},
   "outputs": [],
   "source": [
    "%load_ext autoreload\n",
    "%autoreload 2"
   ]
  },
  {
   "cell_type": "code",
   "execution_count": 32,
   "metadata": {},
   "outputs": [],
   "source": [
    "import scipy\n",
    "import numpy as np\n",
    "\n",
    "from sklearn.feature_extraction.text import TfidfVectorizer\n",
    "from sklearn.preprocessing import MultiLabelBinarizer\n",
    "from sklearn.multiclass import OneVsRestClassifier\n",
    "from sklearn.linear_model import SGDClassifier\n",
    "from sklearn.model_selection import train_test_split, RandomizedSearchCV\n",
    "from sklearn.metrics import f1_score, precision_score, recall_score\n",
    "\n",
    "import data_utils"
   ]
  },
  {
   "cell_type": "code",
   "execution_count": 14,
   "metadata": {},
   "outputs": [],
   "source": [
    "texts, labels = data_utils.get_texts_and_labels('facebook')"
   ]
  },
  {
   "cell_type": "code",
   "execution_count": 16,
   "metadata": {},
   "outputs": [
    {
     "name": "stdout",
     "output_type": "stream",
     "text": [
      "Brothers and sisters: We're going to win this election not because we have a super PAC funded by billionaires.\n",
      "('corporate power', 'campaign finance')\n"
     ]
    }
   ],
   "source": [
    "print(texts[312])\n",
    "print(labels[312])"
   ]
  },
  {
   "cell_type": "code",
   "execution_count": 17,
   "metadata": {},
   "outputs": [],
   "source": [
    "def create_binarizer(labels):\n",
    "    binarizer = MultiLabelBinarizer()\n",
    "    return binarizer.fit(labels)\n",
    "\n",
    "def create_featurizer(corpus):\n",
    "    featurizer = TfidfVectorizer(stop_words='english', ngram_range=(1, 2))\n",
    "    return featurizer.fit(corpus)\n",
    "\n",
    "def create_classifier(hyperparameters):\n",
    "    if hyperparameters is not None and 'estimator__alpha' in hyperparameters:\n",
    "        base_classifier = SGDClassifier(loss='modified_huber', penalty='elasticnet', tol=1e-3, alpha=hyperparameters['estimator__alpha'])\n",
    "    else:\n",
    "        base_classifier = SGDClassifier(loss='modified_huber', penalty='elasticnet', tol=1e-3)\n",
    "    return OneVsRestClassifier(base_classifier, n_jobs=-1)"
   ]
  },
  {
   "cell_type": "code",
   "execution_count": 18,
   "metadata": {},
   "outputs": [],
   "source": [
    "mlb = create_binarizer(labels)\n",
    "featurizer = create_featurizer(texts)\n",
    "\n",
    "tfidf = featurizer.transform(texts)\n",
    "binarized_labels = mlb.transform(labels)"
   ]
  },
  {
   "cell_type": "code",
   "execution_count": 21,
   "metadata": {},
   "outputs": [
    {
     "name": "stdout",
     "output_type": "stream",
     "text": [
      "  (0, 29192)\t0.2867602968749451\n",
      "  (0, 29191)\t0.20563101243820897\n",
      "  (0, 25712)\t0.2597172020626997\n",
      "  (0, 25709)\t0.24389800569408934\n",
      "  (0, 24446)\t0.2867602968749451\n",
      "  (0, 24442)\t0.2239681752576899\n",
      "  (0, 19066)\t0.2867602968749451\n",
      "  (0, 19065)\t0.24389800569408934\n",
      "  (0, 11552)\t0.24389800569408934\n",
      "  (0, 11429)\t0.12156689082737338\n",
      "  (0, 11000)\t0.2867602968749451\n",
      "  (0, 10998)\t0.2239681752576899\n",
      "  (0, 8880)\t0.2867602968749451\n",
      "  (0, 8869)\t0.19892628518558983\n",
      "  (0, 3475)\t0.23267410725045434\n",
      "  (0, 3471)\t0.22024965442790256\n",
      "  (0, 3064)\t0.2081489788890795\n",
      "[0 0 0 0 0 0 0 0 0 1 0 0 0 1 0 0 0 0 0 0 0 0 0 0 0 0 0 0 0 0 0 0 0 0 0 0 0\n",
      " 0 0 0 0 0 0 0 0 0 0 0 0 0 0 0 0 0 0 0 0 0 0 0 0 0 0 0 0 0 0 0 0 0 0]\n"
     ]
    }
   ],
   "source": [
    "print(tfidf[312])\n",
    "print(binarized_labels[312])"
   ]
  },
  {
   "cell_type": "code",
   "execution_count": 22,
   "metadata": {},
   "outputs": [],
   "source": [
    "tfidf_train, tfidf_test, binarized_labels_train, binarized_labels_test = train_test_split(tfidf, binarized_labels, test_size=0.33)"
   ]
  },
  {
   "cell_type": "code",
   "execution_count": 23,
   "metadata": {},
   "outputs": [],
   "source": [
    "def test_classifier(hyperparameters):\n",
    "    classifier = create_classifier(hyperparameters)\n",
    "    classifier.fit(tfidf_train, binarized_labels_train)\n",
    "    y_pred = classifier.predict(tfidf_test)\n",
    "    f1 = f1_score(binarized_labels_test, y_pred, average='micro')\n",
    "    precision = precision_score(binarized_labels_test, y_pred, average='micro')\n",
    "    recall = recall_score(binarized_labels_test, y_pred, average='micro')\n",
    "    print(f\"precision: {precision}\")\n",
    "    print(f\"recall: {recall}\")\n",
    "    print(f\"f1: {f1}\")\n",
    "\n",
    "def find_best_hyperparmeters(tfidf, labels):\n",
    "    classifier = create_classifier(None)\n",
    "    param_distribution = {'estimator__alpha': scipy.stats.expon(scale=0.00001)}\n",
    "    extra_kwargs = {'n_jobs': -1}\n",
    "    scv = RandomizedSearchCV(classifier, param_distribution, n_iter=10, cv=3, scoring='f1_micro', iid=True, verbose=1, refit=False, **extra_kwargs)\n",
    "    scv.fit(tfidf, labels)\n",
    "    return scv.best_params_"
   ]
  },
  {
   "cell_type": "code",
   "execution_count": 24,
   "metadata": {},
   "outputs": [
    {
     "name": "stdout",
     "output_type": "stream",
     "text": [
      "precision: 0.8819875776397516\n",
      "recall: 0.2634508348794063\n",
      "f1: 0.40571428571428564\n",
      "Fitting 3 folds for each of 10 candidates, totalling 30 fits\n"
     ]
    },
    {
     "name": "stderr",
     "output_type": "stream",
     "text": [
      "[Parallel(n_jobs=-1)]: Using backend LokyBackend with 12 concurrent workers.\n",
      "[Parallel(n_jobs=-1)]: Done  30 out of  30 | elapsed:    1.5s finished\n"
     ]
    },
    {
     "name": "stdout",
     "output_type": "stream",
     "text": [
      "precision: 0.7574850299401198\n",
      "recall: 0.46938775510204084\n",
      "f1: 0.579610538373425\n",
      "best hyperparmeter are:  {'estimator__alpha': 1.3834633267768954e-06}\n"
     ]
    }
   ],
   "source": [
    "test_classifier(None)\n",
    "best_hyperparameters = find_best_hyperparmeters(tfidf, binarized_labels)\n",
    "test_classifier(best_hyperparameters)\n",
    "print(\"best hyperparmeter are: \", best_hyperparameters)"
   ]
  },
  {
   "cell_type": "code",
   "execution_count": 28,
   "metadata": {},
   "outputs": [
    {
     "data": {
      "text/plain": [
       "OneVsRestClassifier(estimator=SGDClassifier(alpha=1.3834633267768954e-06,\n",
       "                                            average=False, class_weight=None,\n",
       "                                            early_stopping=False, epsilon=0.1,\n",
       "                                            eta0=0.0, fit_intercept=True,\n",
       "                                            l1_ratio=0.15,\n",
       "                                            learning_rate='optimal',\n",
       "                                            loss='modified_huber',\n",
       "                                            max_iter=1000, n_iter_no_change=5,\n",
       "                                            n_jobs=None, penalty='elasticnet',\n",
       "                                            power_t=0.5, random_state=None,\n",
       "                                            shuffle=True, tol=0.001,\n",
       "                                            validation_fraction=0.1, verbose=0,\n",
       "                                            warm_start=False),\n",
       "                    n_jobs=-1)"
      ]
     },
     "execution_count": 28,
     "metadata": {},
     "output_type": "execute_result"
    }
   ],
   "source": [
    "classifier = create_classifier(best_hyperparameters)\n",
    "classifier.fit(tfidf_train, binarized_labels_train)"
   ]
  },
  {
   "cell_type": "code",
   "execution_count": 40,
   "metadata": {},
   "outputs": [
    {
     "data": {
      "text/plain": [
       "('campaign finance', 'corporate power')"
      ]
     },
     "execution_count": 40,
     "metadata": {},
     "output_type": "execute_result"
    }
   ],
   "source": [
    "test_text = \"Brothers and sisters: We're going to win this election not because we have a super PAC funded by billionaires.\"\n",
    "test_text_tfidf = featurizer.transform([test_text])\n",
    "test_text_pred = classifier.predict(test_text_tfidf)\n",
    "mlb.inverse_transform(test_text_pred)[0]"
   ]
  },
  {
   "cell_type": "code",
   "execution_count": null,
   "metadata": {},
   "outputs": [],
   "source": []
  }
 ],
 "metadata": {
  "kernelspec": {
   "display_name": "Python 3",
   "language": "python",
   "name": "python3"
  },
  "language_info": {
   "codemirror_mode": {
    "name": "ipython",
    "version": 3
   },
   "file_extension": ".py",
   "mimetype": "text/x-python",
   "name": "python",
   "nbconvert_exporter": "python",
   "pygments_lexer": "ipython3",
   "version": "3.7.4"
  }
 },
 "nbformat": 4,
 "nbformat_minor": 2
}
